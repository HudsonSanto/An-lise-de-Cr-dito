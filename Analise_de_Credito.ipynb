{
 "cells": [
  {
   "cell_type": "markdown",
   "id": "513d27d9-e23e-4e79-a5dd-19981f6435f6",
   "metadata": {},
   "source": [
    "# 01 - Preparação dos dados"
   ]
  },
  {
   "cell_type": "code",
   "execution_count": 1,
   "id": "e43ce344-8f76-452c-9646-8c9a41099c0f",
   "metadata": {},
   "outputs": [],
   "source": [
    "#importando bibliotecas\n",
    "import os\n",
    "import re\n",
    "import pandas as pd\n",
    "import numpy as np\n"
   ]
  },
  {
   "cell_type": "code",
   "execution_count": 2,
   "id": "e0c9b969-03ca-42ad-ba2a-dffd3645be08",
   "metadata": {},
   "outputs": [
    {
     "data": {
      "text/html": [
       "<div>\n",
       "<style scoped>\n",
       "    .dataframe tbody tr th:only-of-type {\n",
       "        vertical-align: middle;\n",
       "    }\n",
       "\n",
       "    .dataframe tbody tr th {\n",
       "        vertical-align: top;\n",
       "    }\n",
       "\n",
       "    .dataframe thead th {\n",
       "        text-align: right;\n",
       "    }\n",
       "</style>\n",
       "<table border=\"1\" class=\"dataframe\">\n",
       "  <thead>\n",
       "    <tr style=\"text-align: right;\">\n",
       "      <th></th>\n",
       "      <th>Loan_ID</th>\n",
       "      <th>Gender</th>\n",
       "      <th>Married</th>\n",
       "      <th>Dependents</th>\n",
       "      <th>Education</th>\n",
       "      <th>Self_Employed</th>\n",
       "      <th>ApplicantIncome</th>\n",
       "      <th>CoapplicantIncome</th>\n",
       "      <th>LoanAmount</th>\n",
       "      <th>Loan_Amount_Term</th>\n",
       "      <th>Credit_History</th>\n",
       "      <th>Property_Area</th>\n",
       "      <th>Loan_Status</th>\n",
       "    </tr>\n",
       "  </thead>\n",
       "  <tbody>\n",
       "    <tr>\n",
       "      <th>0</th>\n",
       "      <td>LP001002</td>\n",
       "      <td>Male</td>\n",
       "      <td>No</td>\n",
       "      <td>0</td>\n",
       "      <td>Graduate</td>\n",
       "      <td>No</td>\n",
       "      <td>5849</td>\n",
       "      <td>0.0</td>\n",
       "      <td>NaN</td>\n",
       "      <td>360.0</td>\n",
       "      <td>1.0</td>\n",
       "      <td>Urban</td>\n",
       "      <td>Y</td>\n",
       "    </tr>\n",
       "    <tr>\n",
       "      <th>1</th>\n",
       "      <td>LP001003</td>\n",
       "      <td>Male</td>\n",
       "      <td>Yes</td>\n",
       "      <td>1</td>\n",
       "      <td>Graduate</td>\n",
       "      <td>No</td>\n",
       "      <td>4583</td>\n",
       "      <td>1508.0</td>\n",
       "      <td>128.0</td>\n",
       "      <td>360.0</td>\n",
       "      <td>1.0</td>\n",
       "      <td>Rural</td>\n",
       "      <td>N</td>\n",
       "    </tr>\n",
       "    <tr>\n",
       "      <th>2</th>\n",
       "      <td>LP001005</td>\n",
       "      <td>Male</td>\n",
       "      <td>Yes</td>\n",
       "      <td>0</td>\n",
       "      <td>Graduate</td>\n",
       "      <td>Yes</td>\n",
       "      <td>3000</td>\n",
       "      <td>0.0</td>\n",
       "      <td>66.0</td>\n",
       "      <td>360.0</td>\n",
       "      <td>1.0</td>\n",
       "      <td>Urban</td>\n",
       "      <td>Y</td>\n",
       "    </tr>\n",
       "    <tr>\n",
       "      <th>3</th>\n",
       "      <td>LP001006</td>\n",
       "      <td>Male</td>\n",
       "      <td>Yes</td>\n",
       "      <td>0</td>\n",
       "      <td>Not Graduate</td>\n",
       "      <td>No</td>\n",
       "      <td>2583</td>\n",
       "      <td>2358.0</td>\n",
       "      <td>120.0</td>\n",
       "      <td>360.0</td>\n",
       "      <td>1.0</td>\n",
       "      <td>Urban</td>\n",
       "      <td>Y</td>\n",
       "    </tr>\n",
       "    <tr>\n",
       "      <th>4</th>\n",
       "      <td>LP001008</td>\n",
       "      <td>Male</td>\n",
       "      <td>No</td>\n",
       "      <td>0</td>\n",
       "      <td>Graduate</td>\n",
       "      <td>No</td>\n",
       "      <td>6000</td>\n",
       "      <td>0.0</td>\n",
       "      <td>141.0</td>\n",
       "      <td>360.0</td>\n",
       "      <td>1.0</td>\n",
       "      <td>Urban</td>\n",
       "      <td>Y</td>\n",
       "    </tr>\n",
       "  </tbody>\n",
       "</table>\n",
       "</div>"
      ],
      "text/plain": [
       "    Loan_ID Gender Married Dependents     Education Self_Employed  \\\n",
       "0  LP001002   Male      No          0      Graduate            No   \n",
       "1  LP001003   Male     Yes          1      Graduate            No   \n",
       "2  LP001005   Male     Yes          0      Graduate           Yes   \n",
       "3  LP001006   Male     Yes          0  Not Graduate            No   \n",
       "4  LP001008   Male      No          0      Graduate            No   \n",
       "\n",
       "   ApplicantIncome  CoapplicantIncome  LoanAmount  Loan_Amount_Term  \\\n",
       "0             5849                0.0         NaN             360.0   \n",
       "1             4583             1508.0       128.0             360.0   \n",
       "2             3000                0.0        66.0             360.0   \n",
       "3             2583             2358.0       120.0             360.0   \n",
       "4             6000                0.0       141.0             360.0   \n",
       "\n",
       "   Credit_History Property_Area Loan_Status  \n",
       "0             1.0         Urban           Y  \n",
       "1             1.0         Rural           N  \n",
       "2             1.0         Urban           Y  \n",
       "3             1.0         Urban           Y  \n",
       "4             1.0         Urban           Y  "
      ]
     },
     "execution_count": 2,
     "metadata": {},
     "output_type": "execute_result"
    }
   ],
   "source": [
    "dataframe = pd.read_csv(\"C:/Users/Dell/Desktop/data.csv\", sep = ',' , encoding = 'utf-8')\n",
    "dataframe.head(5)"
   ]
  },
  {
   "cell_type": "code",
   "execution_count": 3,
   "id": "4fe6fc63-8bbc-4996-8f3c-48d6131601ed",
   "metadata": {},
   "outputs": [
    {
     "name": "stdout",
     "output_type": "stream",
     "text": [
      "a quantidade de linhas do dataframe é 614 e 13\n"
     ]
    }
   ],
   "source": [
    "#Vericando quantidade de linhas e colunas\n",
    "linhas, colunas = dataframe.shape\n",
    "print(f'a quantidade de linhas do dataframe é {linhas} e {colunas}')"
   ]
  },
  {
   "cell_type": "code",
   "execution_count": 4,
   "id": "67d35d9e-8f20-426c-9204-4fb764506a5c",
   "metadata": {},
   "outputs": [
    {
     "name": "stdout",
     "output_type": "stream",
     "text": [
      "<class 'pandas.core.frame.DataFrame'>\n",
      "RangeIndex: 614 entries, 0 to 613\n",
      "Data columns (total 13 columns):\n",
      " #   Column             Non-Null Count  Dtype  \n",
      "---  ------             --------------  -----  \n",
      " 0   Loan_ID            614 non-null    object \n",
      " 1   Gender             601 non-null    object \n",
      " 2   Married            611 non-null    object \n",
      " 3   Dependents         599 non-null    object \n",
      " 4   Education          614 non-null    object \n",
      " 5   Self_Employed      582 non-null    object \n",
      " 6   ApplicantIncome    614 non-null    int64  \n",
      " 7   CoapplicantIncome  614 non-null    float64\n",
      " 8   LoanAmount         592 non-null    float64\n",
      " 9   Loan_Amount_Term   600 non-null    float64\n",
      " 10  Credit_History     564 non-null    float64\n",
      " 11  Property_Area      614 non-null    object \n",
      " 12  Loan_Status        614 non-null    object \n",
      "dtypes: float64(4), int64(1), object(8)\n",
      "memory usage: 62.5+ KB\n"
     ]
    }
   ],
   "source": [
    "#Veficando tipo dos dados\n",
    "#dataframe.dtypes\n",
    "dataframe.info()"
   ]
  },
  {
   "cell_type": "code",
   "execution_count": 5,
   "id": "737a99ea-16f2-451a-a8a2-29f5c0cd8272",
   "metadata": {},
   "outputs": [
    {
     "data": {
      "text/plain": [
       "Loan_Status\n",
       "Y    422\n",
       "N    192\n",
       "Name: count, dtype: int64"
      ]
     },
     "execution_count": 5,
     "metadata": {},
     "output_type": "execute_result"
    }
   ],
   "source": [
    "#Vamos agora observar o balanceamento dos aprovados e negados (Y - Aprovado, N - Negado)\n",
    "dataframe.Loan_Status.value_counts()"
   ]
  },
  {
   "cell_type": "code",
   "execution_count": 6,
   "id": "80d6978b-39f2-4f16-9375-87ae33228b4a",
   "metadata": {},
   "outputs": [],
   "source": [
    "#Para equilibrar a amostra vamos reduzir o valor dos aprovados para 200\n",
    "dataframe2 = dataframe[dataframe.Loan_Status == 'Y'].sample(200)\n",
    "dataframe = pd.concat([dataframe2, dataframe[dataframe.Loan_Status == 'N'].sample(192)], ignore_index=True)\n"
   ]
  },
  {
   "cell_type": "code",
   "execution_count": 7,
   "id": "cc87d467-5c04-4910-812c-7cf69bff9aa4",
   "metadata": {},
   "outputs": [
    {
     "data": {
      "text/plain": [
       "Loan_Status\n",
       "Y    200\n",
       "N    192\n",
       "Name: count, dtype: int64"
      ]
     },
     "execution_count": 7,
     "metadata": {},
     "output_type": "execute_result"
    }
   ],
   "source": [
    "#Verificando o equilibrio das classes novamente\n",
    "dataframe.Loan_Status.value_counts()"
   ]
  },
  {
   "cell_type": "code",
   "execution_count": 8,
   "id": "6833cdee-de6a-484b-93a1-f33246374ad3",
   "metadata": {},
   "outputs": [
    {
     "data": {
      "text/plain": [
       "Loan_ID               0\n",
       "Gender               10\n",
       "Married               1\n",
       "Dependents           12\n",
       "Education             0\n",
       "Self_Employed        17\n",
       "ApplicantIncome       0\n",
       "CoapplicantIncome     0\n",
       "LoanAmount           17\n",
       "Loan_Amount_Term     11\n",
       "Credit_History       29\n",
       "Property_Area         0\n",
       "Loan_Status           0\n",
       "dtype: int64"
      ]
     },
     "execution_count": 8,
     "metadata": {},
     "output_type": "execute_result"
    }
   ],
   "source": [
    "# Checando Valores Nulos\n",
    "dataframe.isnull().sum()"
   ]
  },
  {
   "cell_type": "markdown",
   "id": "6ecbf6ac-2147-40a5-ac3a-a9bb1cd0b1d4",
   "metadata": {},
   "source": [
    "Algumas colunas tem valores nulos, como por exemplo: Gender, Married, Dependents, Credit_History e etc.\n",
    "Iremos precisar aplicar algumas técnicas para limpar nosso conjunto de dados, nesse projeto iremos aplicar duas técnicas: Valor Majoritário e Valor Médio"
   ]
  },
  {
   "cell_type": "code",
   "execution_count": 10,
   "id": "240518ea-ea12-421d-83eb-6a828d48cac4",
   "metadata": {},
   "outputs": [
    {
     "data": {
      "text/plain": [
       "Gender\n",
       "Male      304\n",
       "Female     78\n",
       "Name: count, dtype: int64"
      ]
     },
     "execution_count": 10,
     "metadata": {},
     "output_type": "execute_result"
    }
   ],
   "source": [
    "# Contagem de tipos de Generos\n",
    "dataframe.Gender.value_counts()"
   ]
  },
  {
   "cell_type": "code",
   "execution_count": 11,
   "id": "990e7b86-fc96-4dd0-a2d5-296f6b45e031",
   "metadata": {},
   "outputs": [],
   "source": [
    "#Preenchendo os valores nulls da coluna Gender\n",
    "dataframe['Gender'] = dataframe['Gender'].fillna('Male')"
   ]
  },
  {
   "cell_type": "code",
   "execution_count": 12,
   "id": "7ecc6a5f-8e62-4b4d-aa09-60843d33e05e",
   "metadata": {},
   "outputs": [],
   "source": [
    "#Preenchendo os valores nulls da coluna Married\n",
    "dataframe['Married'] = dataframe['Married'].fillna('No')"
   ]
  },
  {
   "cell_type": "code",
   "execution_count": 13,
   "id": "b1a0f35d-526b-4d99-b2bd-6bb0d7508310",
   "metadata": {},
   "outputs": [],
   "source": [
    "#Preenchendo os valores nulls da coluna Dependents\n",
    "dataframe['Dependents'] = dataframe['Dependents'].fillna('0')"
   ]
  },
  {
   "cell_type": "code",
   "execution_count": 14,
   "id": "a745ca83-a4c3-41a3-8199-927752fb2a39",
   "metadata": {},
   "outputs": [],
   "source": [
    "#Preenchendo os valores nulls da coluna Self_Employed\n",
    "dataframe['Self_Employed'] = dataframe['Self_Employed'].fillna('No')"
   ]
  },
  {
   "cell_type": "code",
   "execution_count": 15,
   "id": "d9dfa94c-5385-4366-a46f-2b5bf3588e73",
   "metadata": {},
   "outputs": [],
   "source": [
    "#Preenchendo os valores nulls da coluna LoanAmount\n",
    "dataframe['LoanAmount'] = dataframe['LoanAmount'].fillna(dataframe['LoanAmount'].mean())"
   ]
  },
  {
   "cell_type": "code",
   "execution_count": 16,
   "id": "77d1a789-8591-478d-8138-d97df2c3d87e",
   "metadata": {},
   "outputs": [],
   "source": [
    "#Preenchendo os valores nulls da coluna Credit_History\n",
    "dataframe['Credit_History'] = dataframe['Credit_History'].fillna(1.0)"
   ]
  },
  {
   "cell_type": "code",
   "execution_count": 17,
   "id": "31e6c84e-ab3e-4b32-b4c1-e9a729fcb2e6",
   "metadata": {},
   "outputs": [],
   "source": [
    "#Preenchendo os valores nulls da coluna Loan_Amount_Term\n",
    "dataframe['Loan_Amount_Term'] = dataframe['Loan_Amount_Term'].fillna(dataframe['Loan_Amount_Term'].mean())"
   ]
  },
  {
   "cell_type": "code",
   "execution_count": 18,
   "id": "e2ab13f5-23d1-422d-bd64-1df29b2987c8",
   "metadata": {},
   "outputs": [
    {
     "data": {
      "text/plain": [
       "Loan_ID              0\n",
       "Gender               0\n",
       "Married              0\n",
       "Dependents           0\n",
       "Education            0\n",
       "Self_Employed        0\n",
       "ApplicantIncome      0\n",
       "CoapplicantIncome    0\n",
       "LoanAmount           0\n",
       "Loan_Amount_Term     0\n",
       "Credit_History       0\n",
       "Property_Area        0\n",
       "Loan_Status          0\n",
       "dtype: int64"
      ]
     },
     "execution_count": 18,
     "metadata": {},
     "output_type": "execute_result"
    }
   ],
   "source": [
    "#Verificando novamente se há valores Null\n",
    "dataframe.isnull().sum()"
   ]
  },
  {
   "cell_type": "markdown",
   "id": "0e9288bc-06da-474d-b005-8b48f19ff3c6",
   "metadata": {},
   "source": [
    "Agora iremos transformar os dados para valores categóricos"
   ]
  },
  {
   "cell_type": "code",
   "execution_count": 19,
   "id": "82224e4f-fdf9-4b85-8146-dd6a3cf14098",
   "metadata": {},
   "outputs": [],
   "source": [
    "gender_values = {'Female' : 0, 'Male' : 1} \n",
    "married_values = {'No' : 0, 'Yes' : 1}\n",
    "education_values = {'Graduate' : 0, 'Not Graduate' : 1}\n",
    "employed_values = {'No' : 0, 'Yes' : 1}\n",
    "dependent_values = {'3+': 3, '0': 0, '2': 2, '1': 1}\n",
    "loan_values = {'Y':1,'N':0}\n",
    "dataframe.replace({'Gender': gender_values,\n",
    "                 'Married': married_values, \n",
    "                 'Education': education_values,\n",
    "                 'Self_Employed': employed_values, \n",
    "                 'Dependents': dependent_values,\n",
    "                 'Loan_Status': loan_values\n",
    "                }, inplace=True)"
   ]
  },
  {
   "cell_type": "markdown",
   "id": "c78bc986-f903-4d5a-b315-968109531d32",
   "metadata": {},
   "source": [
    "Seleção de Features"
   ]
  },
  {
   "cell_type": "code",
   "execution_count": 20,
   "id": "141f022a-8db6-410a-8767-01d5a1f189a5",
   "metadata": {},
   "outputs": [
    {
     "data": {
      "text/html": [
       "<div>\n",
       "<style scoped>\n",
       "    .dataframe tbody tr th:only-of-type {\n",
       "        vertical-align: middle;\n",
       "    }\n",
       "\n",
       "    .dataframe tbody tr th {\n",
       "        vertical-align: top;\n",
       "    }\n",
       "\n",
       "    .dataframe thead th {\n",
       "        text-align: right;\n",
       "    }\n",
       "</style>\n",
       "<table border=\"1\" class=\"dataframe\">\n",
       "  <thead>\n",
       "    <tr style=\"text-align: right;\">\n",
       "      <th></th>\n",
       "      <th>Gender</th>\n",
       "      <th>Married</th>\n",
       "      <th>Dependents</th>\n",
       "      <th>Education</th>\n",
       "      <th>Self_Employed</th>\n",
       "      <th>ApplicantIncome</th>\n",
       "      <th>LoanAmount</th>\n",
       "      <th>Loan_Status</th>\n",
       "    </tr>\n",
       "  </thead>\n",
       "  <tbody>\n",
       "    <tr>\n",
       "      <th>0</th>\n",
       "      <td>1</td>\n",
       "      <td>0</td>\n",
       "      <td>0</td>\n",
       "      <td>0</td>\n",
       "      <td>0</td>\n",
       "      <td>5417</td>\n",
       "      <td>168.0</td>\n",
       "      <td>1</td>\n",
       "    </tr>\n",
       "    <tr>\n",
       "      <th>1</th>\n",
       "      <td>0</td>\n",
       "      <td>0</td>\n",
       "      <td>0</td>\n",
       "      <td>1</td>\n",
       "      <td>0</td>\n",
       "      <td>1963</td>\n",
       "      <td>53.0</td>\n",
       "      <td>1</td>\n",
       "    </tr>\n",
       "    <tr>\n",
       "      <th>2</th>\n",
       "      <td>1</td>\n",
       "      <td>1</td>\n",
       "      <td>3</td>\n",
       "      <td>0</td>\n",
       "      <td>0</td>\n",
       "      <td>3029</td>\n",
       "      <td>99.0</td>\n",
       "      <td>1</td>\n",
       "    </tr>\n",
       "    <tr>\n",
       "      <th>3</th>\n",
       "      <td>0</td>\n",
       "      <td>1</td>\n",
       "      <td>0</td>\n",
       "      <td>0</td>\n",
       "      <td>0</td>\n",
       "      <td>2423</td>\n",
       "      <td>130.0</td>\n",
       "      <td>1</td>\n",
       "    </tr>\n",
       "    <tr>\n",
       "      <th>4</th>\n",
       "      <td>1</td>\n",
       "      <td>0</td>\n",
       "      <td>0</td>\n",
       "      <td>1</td>\n",
       "      <td>0</td>\n",
       "      <td>3833</td>\n",
       "      <td>110.0</td>\n",
       "      <td>1</td>\n",
       "    </tr>\n",
       "  </tbody>\n",
       "</table>\n",
       "</div>"
      ],
      "text/plain": [
       "   Gender  Married  Dependents  Education  Self_Employed  ApplicantIncome  \\\n",
       "0       1        0           0          0              0             5417   \n",
       "1       0        0           0          1              0             1963   \n",
       "2       1        1           3          0              0             3029   \n",
       "3       0        1           0          0              0             2423   \n",
       "4       1        0           0          1              0             3833   \n",
       "\n",
       "   LoanAmount  Loan_Status  \n",
       "0       168.0            1  \n",
       "1        53.0            1  \n",
       "2        99.0            1  \n",
       "3       130.0            1  \n",
       "4       110.0            1  "
      ]
     },
     "execution_count": 20,
     "metadata": {},
     "output_type": "execute_result"
    }
   ],
   "source": [
    "#Removendo as colunas Loan_ID,CoapplicantIncome,Loan_Amount_Term,Credit_History,Property_Area esses atributos não agregam muito para a criação do modelo.\n",
    "dataframe.drop(['Loan_ID','CoapplicantIncome','Loan_Amount_Term','Credit_History','Property_Area'],axis=1,inplace=True)\n",
    "dataframe.head(5)"
   ]
  },
  {
   "cell_type": "markdown",
   "id": "0f9d461e-1179-4a91-9c35-1739e757441a",
   "metadata": {},
   "source": [
    "# 3 - Criando o Modelo de Machine Learning"
   ]
  },
  {
   "cell_type": "code",
   "execution_count": 23,
   "id": "69df7eb4-35e9-4b74-8f4e-90e65d659ea0",
   "metadata": {},
   "outputs": [],
   "source": [
    "#Carregando as bibliotecas\n",
    "from sklearn.ensemble import RandomForestClassifier\n",
    "from sklearn.model_selection import train_test_split"
   ]
  },
  {
   "cell_type": "code",
   "execution_count": 24,
   "id": "2fe06146-76b2-4754-8bac-4f03b5b6a8ec",
   "metadata": {},
   "outputs": [],
   "source": [
    "#Instanciando o classificador Random Forest\n",
    "clf_rf = RandomForestClassifier(n_estimators=100,min_samples_split=2)"
   ]
  },
  {
   "cell_type": "code",
   "execution_count": 26,
   "id": "4cd84c3e-4e9e-4b0a-b714-9011d679301d",
   "metadata": {},
   "outputs": [],
   "source": [
    "#Dividindo o conjunto de dados\n",
    "X = dataframe.drop('Loan_Status',axis=1)\n",
    "y = dataframe['Loan_Status']"
   ]
  },
  {
   "cell_type": "code",
   "execution_count": 27,
   "id": "cd4d804d-688e-4509-b25c-7cb580435572",
   "metadata": {},
   "outputs": [],
   "source": [
    "#Agora, vamos dividir o conjunto em Treinamento e Teste\n",
    "X_treino, X_teste, y_treino, y_teste = train_test_split(X, y,test_size=0.20,random_state=42)"
   ]
  },
  {
   "cell_type": "code",
   "execution_count": 28,
   "id": "48ced594-6a9e-43d5-8aa4-67ebbe01855b",
   "metadata": {},
   "outputs": [
    {
     "data": {
      "text/html": [
       "<style>#sk-container-id-1 {color: black;background-color: white;}#sk-container-id-1 pre{padding: 0;}#sk-container-id-1 div.sk-toggleable {background-color: white;}#sk-container-id-1 label.sk-toggleable__label {cursor: pointer;display: block;width: 100%;margin-bottom: 0;padding: 0.3em;box-sizing: border-box;text-align: center;}#sk-container-id-1 label.sk-toggleable__label-arrow:before {content: \"▸\";float: left;margin-right: 0.25em;color: #696969;}#sk-container-id-1 label.sk-toggleable__label-arrow:hover:before {color: black;}#sk-container-id-1 div.sk-estimator:hover label.sk-toggleable__label-arrow:before {color: black;}#sk-container-id-1 div.sk-toggleable__content {max-height: 0;max-width: 0;overflow: hidden;text-align: left;background-color: #f0f8ff;}#sk-container-id-1 div.sk-toggleable__content pre {margin: 0.2em;color: black;border-radius: 0.25em;background-color: #f0f8ff;}#sk-container-id-1 input.sk-toggleable__control:checked~div.sk-toggleable__content {max-height: 200px;max-width: 100%;overflow: auto;}#sk-container-id-1 input.sk-toggleable__control:checked~label.sk-toggleable__label-arrow:before {content: \"▾\";}#sk-container-id-1 div.sk-estimator input.sk-toggleable__control:checked~label.sk-toggleable__label {background-color: #d4ebff;}#sk-container-id-1 div.sk-label input.sk-toggleable__control:checked~label.sk-toggleable__label {background-color: #d4ebff;}#sk-container-id-1 input.sk-hidden--visually {border: 0;clip: rect(1px 1px 1px 1px);clip: rect(1px, 1px, 1px, 1px);height: 1px;margin: -1px;overflow: hidden;padding: 0;position: absolute;width: 1px;}#sk-container-id-1 div.sk-estimator {font-family: monospace;background-color: #f0f8ff;border: 1px dotted black;border-radius: 0.25em;box-sizing: border-box;margin-bottom: 0.5em;}#sk-container-id-1 div.sk-estimator:hover {background-color: #d4ebff;}#sk-container-id-1 div.sk-parallel-item::after {content: \"\";width: 100%;border-bottom: 1px solid gray;flex-grow: 1;}#sk-container-id-1 div.sk-label:hover label.sk-toggleable__label {background-color: #d4ebff;}#sk-container-id-1 div.sk-serial::before {content: \"\";position: absolute;border-left: 1px solid gray;box-sizing: border-box;top: 0;bottom: 0;left: 50%;z-index: 0;}#sk-container-id-1 div.sk-serial {display: flex;flex-direction: column;align-items: center;background-color: white;padding-right: 0.2em;padding-left: 0.2em;position: relative;}#sk-container-id-1 div.sk-item {position: relative;z-index: 1;}#sk-container-id-1 div.sk-parallel {display: flex;align-items: stretch;justify-content: center;background-color: white;position: relative;}#sk-container-id-1 div.sk-item::before, #sk-container-id-1 div.sk-parallel-item::before {content: \"\";position: absolute;border-left: 1px solid gray;box-sizing: border-box;top: 0;bottom: 0;left: 50%;z-index: -1;}#sk-container-id-1 div.sk-parallel-item {display: flex;flex-direction: column;z-index: 1;position: relative;background-color: white;}#sk-container-id-1 div.sk-parallel-item:first-child::after {align-self: flex-end;width: 50%;}#sk-container-id-1 div.sk-parallel-item:last-child::after {align-self: flex-start;width: 50%;}#sk-container-id-1 div.sk-parallel-item:only-child::after {width: 0;}#sk-container-id-1 div.sk-dashed-wrapped {border: 1px dashed gray;margin: 0 0.4em 0.5em 0.4em;box-sizing: border-box;padding-bottom: 0.4em;background-color: white;}#sk-container-id-1 div.sk-label label {font-family: monospace;font-weight: bold;display: inline-block;line-height: 1.2em;}#sk-container-id-1 div.sk-label-container {text-align: center;}#sk-container-id-1 div.sk-container {/* jupyter's `normalize.less` sets `[hidden] { display: none; }` but bootstrap.min.css set `[hidden] { display: none !important; }` so we also need the `!important` here to be able to override the default hidden behavior on the sphinx rendered scikit-learn.org. See: https://github.com/scikit-learn/scikit-learn/issues/21755 */display: inline-block !important;position: relative;}#sk-container-id-1 div.sk-text-repr-fallback {display: none;}</style><div id=\"sk-container-id-1\" class=\"sk-top-container\"><div class=\"sk-text-repr-fallback\"><pre>RandomForestClassifier()</pre><b>In a Jupyter environment, please rerun this cell to show the HTML representation or trust the notebook. <br />On GitHub, the HTML representation is unable to render, please try loading this page with nbviewer.org.</b></div><div class=\"sk-container\" hidden><div class=\"sk-item\"><div class=\"sk-estimator sk-toggleable\"><input class=\"sk-toggleable__control sk-hidden--visually\" id=\"sk-estimator-id-1\" type=\"checkbox\" checked><label for=\"sk-estimator-id-1\" class=\"sk-toggleable__label sk-toggleable__label-arrow\">RandomForestClassifier</label><div class=\"sk-toggleable__content\"><pre>RandomForestClassifier()</pre></div></div></div></div></div>"
      ],
      "text/plain": [
       "RandomForestClassifier()"
      ]
     },
     "execution_count": 28,
     "metadata": {},
     "output_type": "execute_result"
    }
   ],
   "source": [
    "#Treinando o Modelo\n",
    "clf_rf.fit(X_treino,y_treino)"
   ]
  },
  {
   "cell_type": "code",
   "execution_count": 29,
   "id": "4386cd8f-28e5-4587-b16e-96d848e9093c",
   "metadata": {},
   "outputs": [
    {
     "name": "stdout",
     "output_type": "stream",
     "text": [
      "Predito   0   1  All\n",
      "Real                \n",
      "0        19   9   28\n",
      "1        30  21   51\n",
      "All      49  30   79 \n"
     ]
    }
   ],
   "source": [
    "#Métricas de Validação\n",
    "#Nessa fase iremos fazer as validações para ver se nosso modelo está preciso\n",
    "from sklearn import metrics\n",
    "print (pd.crosstab(y_teste, clf_rf.predict(X_teste), rownames=['Real'], colnames=['Predito'], margins=True), '')\n"
   ]
  },
  {
   "cell_type": "code",
   "execution_count": 30,
   "id": "4e295080-bea7-4367-a6ef-07636886b692",
   "metadata": {},
   "outputs": [
    {
     "name": "stdout",
     "output_type": "stream",
     "text": [
      "              precision    recall  f1-score   support\n",
      "\n",
      "           0       0.39      0.68      0.49        28\n",
      "           1       0.70      0.41      0.52        51\n",
      "\n",
      "    accuracy                           0.51        79\n",
      "   macro avg       0.54      0.55      0.51        79\n",
      "weighted avg       0.59      0.51      0.51        79\n",
      "\n"
     ]
    }
   ],
   "source": [
    "#Gerando relatório de classificação\n",
    "print (metrics.classification_report(y_teste,clf_rf.predict(X_teste)))"
   ]
  },
  {
   "cell_type": "markdown",
   "id": "303751a2-460e-4000-bae9-2cb5d182136d",
   "metadata": {},
   "source": [
    "A partir desses dados desse  relatório de classificação, podemos fazer as seguintes conclusões:\r\n",
    "\r\n",
    "Precisão (Precision):\r\n",
    "Para a classe 0, a precisão é de 0.39, o que indica que, das instâncias classificadas como pertencentes à classe 0, apenas 39% realmente são da classe 0.\r\n",
    "Para a classe 1, a precisão é de 0.70, o que significa que 70% das instâncias classificadas como pertencentes à classe 1 realmente são da classe 1.\r\n",
    "Em termos gerais, a precisão ponderada (weighted avg) é de 0.59.\r\n",
    "Revocação (Recall):\r\n",
    "Para a classe 0, a revocação é de 0.68, o que sugere que 68% das instâncias da classe 0 foram corretamente identificadas pelo modelo.\r\n",
    "Para a classe 1, a revocação é de 0.41, indicando que apenas 41% das instâncias da classe 1 foram corretamente identificadas pelo modelo.\r\n",
    "A revocação ponderada (weighted avg) é de 0.51.\r\n",
    "F1-Score:\r\n",
    "O F1-Score combina precisão e revocação em uma única métrica. Para a classe 0, o F1-Score é de 0.49, e para a classe 1 é de 0.52.\r\n",
    "O F1-Score ponderado (weighted avg) é de 0.51.\r\n",
    "Acurácia (Accuracy):\r\n",
    "A acurácia geral do modelo é de 51%, o que significa que aproximadamente metade das predições do modelo estão corretas.\r\n",
    "Macro e Média Ponderada (Macro and Weighted Avg):\r\n",
    "A média das métricas para todas as classes (macro avg) é calculada.\r\n",
    "A média ponderada (weighted avg) das métricas, ponderada pelo suporte de cada cla\n",
    "sOu sejaculada.\r\n",
    "Em resumo, o modelo tem um desempenho modesto, com precisão e revocação variando entre as classes. A precisão ponderada e a revocação ponderada fornecem uma visão geral do desempenho do modelo em todas as classes, levando em consideração o desequilíbrio de classe."
   ]
  },
  {
   "cell_type": "code",
   "execution_count": null,
   "id": "a9dc66de-45e7-4fee-9da5-1437681e22a7",
   "metadata": {},
   "outputs": [],
   "source": []
  }
 ],
 "metadata": {
  "kernelspec": {
   "display_name": "Python 3 (ipykernel)",
   "language": "python",
   "name": "python3"
  },
  "language_info": {
   "codemirror_mode": {
    "name": "ipython",
    "version": 3
   },
   "file_extension": ".py",
   "mimetype": "text/x-python",
   "name": "python",
   "nbconvert_exporter": "python",
   "pygments_lexer": "ipython3",
   "version": "3.11.7"
  }
 },
 "nbformat": 4,
 "nbformat_minor": 5
}
